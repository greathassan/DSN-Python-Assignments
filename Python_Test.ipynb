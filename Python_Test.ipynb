{
 "cells": [
  {
   "cell_type": "code",
   "execution_count": 0,
   "metadata": {
    "colab": {},
    "colab_type": "code",
    "id": "RAkfp_ZKoJCH"
   },
   "outputs": [],
   "source": [
    "#write a python program to:\n",
    "#1. Request a Username\n",
    "#2. Output \"Username, you are welcome to this class\""
   ]
  },
  {
   "cell_type": "code",
   "execution_count": 10,
   "metadata": {
    "colab": {},
    "colab_type": "code",
    "id": "dXiymM_9q_TU"
   },
   "outputs": [
    {
     "name": "stdout",
     "output_type": "stream",
     "text": [
      "640559\n"
     ]
    }
   ],
   "source": [
    "A = [2,3,4,7,9,20,800]\n",
    "total = 0\n",
    "for  i in A:\n",
    "    total += i**2\n",
    "print(total)\n",
    "#'''Write a python program to find sum of squares of the list item'''"
   ]
  },
  {
   "cell_type": "code",
   "execution_count": 21,
   "metadata": {
    "colab": {},
    "colab_type": "code",
    "id": "-HsJ1RtJq_Ek"
   },
   "outputs": [
    {
     "data": {
      "text/plain": [
       "['Ayo', 'Charles', 'Ope', 'james']"
      ]
     },
     "execution_count": 21,
     "metadata": {},
     "output_type": "execute_result"
    }
   ],
   "source": [
    "B = [\"Ayo\", \"Charles\", \"Ope\", \"james\", \"chika\"]\n",
    "del B[4]\n",
    "B\n",
    "\n",
    "#'''Write a python program todelete chika from the list'''"
   ]
  },
  {
   "cell_type": "code",
   "execution_count": 42,
   "metadata": {
    "colab": {},
    "colab_type": "code",
    "id": "1IYkWwYLq-Dl"
   },
   "outputs": [
    {
     "name": "stdout",
     "output_type": "stream",
     "text": [
      "Phone number of John is 938477566\n",
      "Phone number of Jack is 938377264\n",
      "Phone number of Jill is 947662781\n"
     ]
    }
   ],
   "source": [
    "#Print all items in the phonebook dictionary\n",
    "\n",
    "phonebook = {\"John\" : 938477566,\"Jack\" : 938377264,\"Jill\" : 947662781}\n",
    "\n",
    "#Your code here\n",
    "for a,b in phonebook.items():\n",
    "    \n",
    "    print(\"Phone number of %s is %d\" % (a, b))"
   ]
  },
  {
   "cell_type": "code",
   "execution_count": 41,
   "metadata": {
    "colab": {},
    "colab_type": "code",
    "id": "SpzyMaKvq9UA"
   },
   "outputs": [
    {
     "name": "stdout",
     "output_type": "stream",
     "text": [
      "{'Jack': 938377264, 'Jill': 947662781}\n"
     ]
    }
   ],
   "source": [
    "#Delete John from phone book\n",
    "del(phonebook['John'])\n",
    "print(phonebook)"
   ]
  },
  {
   "cell_type": "code",
   "execution_count": 43,
   "metadata": {
    "colab": {},
    "colab_type": "code",
    "id": "ji4vLbGisDGd"
   },
   "outputs": [
    {
     "name": "stdout",
     "output_type": "stream",
     "text": [
      "{'John': 938477566, 'Jack': 938377264, 'Jill': 947662781, 'Jake': 938273443}\n"
     ]
    }
   ],
   "source": [
    "#Add \"Jake\" to the phonebook with the phone number 938273443, and remove Jill from the phonebook.\n",
    "\n",
    "phonebook = {\n",
    "    \"John\" : 938477566,\n",
    "    \"Jack\" : 938377264,\n",
    "    \"Jill\" : 947662781\n",
    "}\n",
    "\n",
    "# write your code here\n",
    "phonebook.update({'Jake': 938273443})\n",
    "print(phonebook)\n",
    "# testing code\n",
    "#if \"Jake\" in phonebook:\n",
    "    #print(\"Jake is listed in the phonebook.\")\n",
    "#if \"Jill\" not in phonebook:\n",
    "    #print(\"Jill is not listed in the phonebook.\")"
   ]
  },
  {
   "cell_type": "code",
   "execution_count": null,
   "metadata": {},
   "outputs": [],
   "source": []
  }
 ],
 "metadata": {
  "colab": {
   "name": "Python Test",
   "provenance": [],
   "version": "0.3.2"
  },
  "kernelspec": {
   "display_name": "Python 3",
   "language": "python",
   "name": "python3"
  },
  "language_info": {
   "codemirror_mode": {
    "name": "ipython",
    "version": 3
   },
   "file_extension": ".py",
   "mimetype": "text/x-python",
   "name": "python",
   "nbconvert_exporter": "python",
   "pygments_lexer": "ipython3",
   "version": "3.7.4"
  }
 },
 "nbformat": 4,
 "nbformat_minor": 1
}
