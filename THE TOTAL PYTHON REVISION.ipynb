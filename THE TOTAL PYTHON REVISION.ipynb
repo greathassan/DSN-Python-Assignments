{
 "cells": [
  {
   "cell_type": "code",
   "execution_count": 1,
   "metadata": {},
   "outputs": [
    {
     "data": {
      "text/plain": [
       "2"
      ]
     },
     "execution_count": 1,
     "metadata": {},
     "output_type": "execute_result"
    }
   ],
   "source": [
    "3 & 2"
   ]
  },
  {
   "cell_type": "code",
   "execution_count": 2,
   "metadata": {},
   "outputs": [
    {
     "data": {
      "text/plain": [
       "-8"
      ]
     },
     "execution_count": 2,
     "metadata": {},
     "output_type": "execute_result"
    }
   ],
   "source": [
    "~ 7"
   ]
  },
  {
   "cell_type": "code",
   "execution_count": 3,
   "metadata": {},
   "outputs": [
    {
     "name": "stdout",
     "output_type": "stream",
     "text": [
      "20\n"
     ]
    }
   ],
   "source": [
    "i = 20\n",
    "print(i)"
   ]
  },
  {
   "cell_type": "code",
   "execution_count": 4,
   "metadata": {},
   "outputs": [
    {
     "name": "stdout",
     "output_type": "stream",
     "text": [
      "12\n"
     ]
    }
   ],
   "source": [
    "A = 12\n",
    "print(A)"
   ]
  },
  {
   "cell_type": "code",
   "execution_count": 5,
   "metadata": {},
   "outputs": [
    {
     "name": "stdout",
     "output_type": "stream",
     "text": [
      "1639238096\n",
      "1639237968\n"
     ]
    }
   ],
   "source": [
    "print(id(i))\n",
    "print(id(A))"
   ]
  },
  {
   "cell_type": "code",
   "execution_count": 6,
   "metadata": {},
   "outputs": [
    {
     "name": "stdout",
     "output_type": "stream",
     "text": [
      "10 1000 100000000\n"
     ]
    }
   ],
   "source": [
    "print(10, 1000, 100000000)"
   ]
  },
  {
   "cell_type": "code",
   "execution_count": 7,
   "metadata": {},
   "outputs": [
    {
     "name": "stdout",
     "output_type": "stream",
     "text": [
      "3.333333333333333\n",
      "40000000.0\n",
      "4.5e-08\n"
     ]
    }
   ],
   "source": [
    "B = A/3.6\n",
    "print(B)\n",
    "print(.4e8)\n",
    "print(.45e-7)"
   ]
  },
  {
   "cell_type": "code",
   "execution_count": 8,
   "metadata": {},
   "outputs": [
    {
     "name": "stdout",
     "output_type": "stream",
     "text": [
      "(10+40j)\n"
     ]
    }
   ],
   "source": [
    "c1 = 4 + 23j\n",
    "c2 = 6 + 17j\n",
    "\n",
    "C = c1 + c2\n",
    "print(C)"
   ]
  },
  {
   "cell_type": "code",
   "execution_count": 9,
   "metadata": {},
   "outputs": [
    {
     "name": "stdout",
     "output_type": "stream",
     "text": [
      "(-2+6j)\n"
     ]
    }
   ],
   "source": [
    "B = c1 - c2\n",
    "print(B)"
   ]
  },
  {
   "cell_type": "code",
   "execution_count": 10,
   "metadata": {},
   "outputs": [
    {
     "name": "stdout",
     "output_type": "stream",
     "text": [
      "For the whole wide world\n"
     ]
    }
   ],
   "source": [
    "W = 'For the whole wide world'\n",
    "print(W)"
   ]
  },
  {
   "cell_type": "code",
   "execution_count": 16,
   "metadata": {},
   "outputs": [
    {
     "name": "stdout",
     "output_type": "stream",
     "text": [
      "'i am going to my parents house\n"
     ]
    }
   ],
   "source": [
    "G = '\\'i am going to my parents house'\n",
    "print(G)"
   ]
  },
  {
   "cell_type": "code",
   "execution_count": 9,
   "metadata": {},
   "outputs": [
    {
     "name": "stdout",
     "output_type": "stream",
     "text": [
      "I am happy with life, \n",
      "though i am not yet very successful, \n",
      "i am very certain that i will be very successful by God's grace\n"
     ]
    }
   ],
   "source": [
    "F = \"\"\"I am happy with life, \n",
    "though i am not yet very successful, \n",
    "i am very certain that i will be very successful by God's grace\"\"\"\n",
    "print(F)"
   ]
  },
  {
   "cell_type": "code",
   "execution_count": 11,
   "metadata": {},
   "outputs": [
    {
     "name": "stdout",
     "output_type": "stream",
     "text": [
      "I am happy with life, \n",
      "though i am not yet very successful, \n",
      "i am very certain that i will be very successful by God's grace\n"
     ]
    }
   ],
   "source": [
    "Z = \"I am happy with life, \\nthough i am not yet very successful, \\ni am very certain that i will be very successful by God's grace\"\n",
    "print(Z)"
   ]
  },
  {
   "cell_type": "code",
   "execution_count": 15,
   "metadata": {},
   "outputs": [
    {
     "name": "stdout",
     "output_type": "stream",
     "text": [
      "I am happy with life, though i am not yet very successful/powerful, i am very certain that i will be very successful by God's grace\n"
     ]
    }
   ],
   "source": [
    "M = \"I am happy with life, though i am not yet very successful/powerful, i am very certain that i will be very successful by God's grace\"\n",
    "print(M)"
   ]
  },
  {
   "cell_type": "code",
   "execution_count": 21,
   "metadata": {},
   "outputs": [
    {
     "name": "stdout",
     "output_type": "stream",
     "text": [
      "I am happy with life, \n",
      " though i am not yet\tvery successful/powerful,\n",
      "' i am very certain that i will be very successful' \n",
      "   by God's grace\n"
     ]
    }
   ],
   "source": [
    "J = \"I am happy with life, \\n though i am not yet\\tvery successful/powerful,\\n\\' i am very certain that i will be very successful\\' \\n   by God's grace\"\n",
    "print(J)"
   ]
  },
  {
   "cell_type": "code",
   "execution_count": 28,
   "metadata": {},
   "outputs": [
    {
     "name": "stdout",
     "output_type": "stream",
     "text": [
      "['H', 'E', 'A', 'V', 'E', 'N']\n"
     ]
    }
   ],
   "source": [
    "A = ['H', 'E', 'A', 'V', 'E', 'N']\n",
    "print(A)"
   ]
  },
  {
   "cell_type": "code",
   "execution_count": 23,
   "metadata": {},
   "outputs": [
    {
     "name": "stdout",
     "output_type": "stream",
     "text": [
      "H\n"
     ]
    }
   ],
   "source": [
    "print(A[0])"
   ]
  },
  {
   "cell_type": "code",
   "execution_count": 24,
   "metadata": {},
   "outputs": [
    {
     "name": "stdout",
     "output_type": "stream",
     "text": [
      "A N\n"
     ]
    }
   ],
   "source": [
    "print(A[2], A[5])"
   ]
  },
  {
   "cell_type": "code",
   "execution_count": 29,
   "metadata": {},
   "outputs": [
    {
     "name": "stdout",
     "output_type": "stream",
     "text": [
      "['A', 'V', 'E', 'N']\n"
     ]
    }
   ],
   "source": [
    "T = A[2:6]\n",
    "print(T)"
   ]
  },
  {
   "cell_type": "code",
   "execution_count": 30,
   "metadata": {},
   "outputs": [
    {
     "name": "stdout",
     "output_type": "stream",
     "text": [
      "['H', 'E', 'A', 'V', 'E', 'N', 'A', 'V', 'E', 'N', 'U', 'E']\n"
     ]
    }
   ],
   "source": [
    "Q = ['U', 'E']\n",
    "Q_ConCat = A + T + Q\n",
    "print(Q_ConCat)"
   ]
  },
  {
   "cell_type": "code",
   "execution_count": null,
   "metadata": {},
   "outputs": [],
   "source": [
    "print(casefold(A))"
   ]
  },
  {
   "cell_type": "code",
   "execution_count": null,
   "metadata": {},
   "outputs": [],
   "source": [
    "Age = input('i am happy to meet you, please may i know your name?')"
   ]
  },
  {
   "cell_type": "code",
   "execution_count": null,
   "metadata": {},
   "outputs": [],
   "source": [
    "University = input(May i know your University?)"
   ]
  },
  {
   "cell_type": "code",
   "execution_count": null,
   "metadata": {},
   "outputs": [],
   "source": []
  }
 ],
 "metadata": {
  "kernelspec": {
   "display_name": "Python 3",
   "language": "python",
   "name": "python3"
  },
  "language_info": {
   "codemirror_mode": {
    "name": "ipython",
    "version": 3
   },
   "file_extension": ".py",
   "mimetype": "text/x-python",
   "name": "python",
   "nbconvert_exporter": "python",
   "pygments_lexer": "ipython3",
   "version": "3.7.3"
  }
 },
 "nbformat": 4,
 "nbformat_minor": 2
}
